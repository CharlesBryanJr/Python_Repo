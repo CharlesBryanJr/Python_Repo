{
 "cells": [
  {
   "cell_type": "markdown",
   "id": "c106a086",
   "metadata": {
    "pycharm": {
     "name": "#%% md\n"
    }
   },
   "source": [
    "## "
   ]
  },
  {
   "cell_type": "markdown",
   "id": "7a01c6e2",
   "metadata": {
    "pycharm": {
     "name": "#%% md\n"
    }
   },
   "source": [
    "### Assignment 3\n",
    "\n",
    "## Pyton Coding Guidelines (https://peps.python.org/pep-0008)\n",
    "\n",
    "## For each problem you need to write code for a function based on the requirements. \n",
    "- The function initally only contains the code 'pass' which does nothing\n",
    "- Your task is to write correct code that follows the coding guidelines.\n",
    "- In the cell following the code cell, the assertion statements that will test your code.\n",
    "- If there is an error, the assertion will throw an Error.\n",
    "- If you pass all the assertions, you will see the print statement display 'Passed'\n",
    "\n",
    "## Submit your notebook to Canvas in a zip file named as: a3.lastname.zip\n",
    "- be sure to name it with YOUR last name"
   ]
  },
  {
   "cell_type": "markdown",
   "id": "a806043b",
   "metadata": {
    "pycharm": {
     "name": "#%% md\n"
    }
   },
   "source": [
    "## Name and SMU ID"
   ]
  },
  {
   "cell_type": "code",
   "execution_count": 1,
   "id": "46791955",
   "metadata": {
    "pycharm": {
     "name": "#%%\n"
    }
   },
   "outputs": [],
   "source": [
    "# Name: Charles Bryan\n",
    "# SMU ID: 49350684"
   ]
  },
  {
   "cell_type": "markdown",
   "id": "6ba1a4c1",
   "metadata": {
    "pycharm": {
     "name": "#%% md\n"
    }
   },
   "source": [
    "## Problem 1\n",
    "\n",
    "- Write a function gen_dict_from_lists(list1, list2) \n",
    "- return a dictionary such that items from list1 are the keys and items from list2 are the values\n",
    "\n",
    "\n",
    "\n"
   ]
  },
  {
   "cell_type": "code",
   "execution_count": 2,
   "id": "a77acb0d",
   "metadata": {
    "pycharm": {
     "name": "#%%\n"
    }
   },
   "outputs": [],
   "source": [
    "def gen_dict_from_lists(list1, list2) :\n",
    "    dict1 = {}\n",
    "    for key, item in zip(list1, list2):\n",
    "        dict1[key] = item\n",
    "    return dict1\n"
   ]
  },
  {
   "cell_type": "code",
   "execution_count": 3,
   "id": "e082eb38",
   "metadata": {
    "pycharm": {
     "name": "#%%\n"
    }
   },
   "outputs": [
    {
     "name": "stdout",
     "output_type": "stream",
     "text": [
      "Passed\n"
     ]
    }
   ],
   "source": [
    "# Assertions for sum_all \n",
    "# Execute this cell after completing the function.\n",
    "\n",
    "keys = ['Ten', 'Twenty', 'Thirty']\n",
    "values = [10, 20, 30]\n",
    "\n",
    "assert gen_dict_from_lists(keys, values) == {'Ten': 10, 'Twenty': 20, 'Thirty': 30}\n",
    "print (\"Passed\")"
   ]
  },
  {
   "cell_type": "markdown",
   "id": "72ffdd8a",
   "metadata": {
    "pycharm": {
     "name": "#%% md\n"
    }
   },
   "source": [
    "## Problem 2: \n",
    "##  Write code for a function gen_new_dict(key_list, val_list):\n",
    "- that generates a dict based on two lists:\n",
    "- first parameter -  list contains a list of keys\n",
    "- second paramteter - list of value\n",
    "- if the length of the two parameter lists are unequal, return None"
   ]
  },
  {
   "cell_type": "code",
   "execution_count": 4,
   "id": "f796f329",
   "metadata": {
    "pycharm": {
     "name": "#%%\n"
    }
   },
   "outputs": [],
   "source": [
    "def gen_new_dict(key_list, val_list):\n",
    "    if len(key_list) != len(val_list):\n",
    "        return None\n",
    "    new_dict = {}\n",
    "    for key, item in zip(key_list, val_list):\n",
    "        new_dict[key] = item\n",
    "    return new_dict\n"
   ]
  },
  {
   "cell_type": "code",
   "execution_count": 5,
   "id": "6263c2d5",
   "metadata": {
    "pycharm": {
     "name": "#%%\n"
    }
   },
   "outputs": [
    {
     "name": "stdout",
     "output_type": "stream",
     "text": [
      "Passed\n"
     ]
    }
   ],
   "source": [
    "val_list = [10,20,30,40]\n",
    "key_list = ['Moe', 'Willy', 'Curly', 'Larry']          \n",
    "val_list2 = [11,22,33]\n",
    "\n",
    "assert gen_new_dict(key_list, val_list) == {'Moe': 10, 'Willy': 20, 'Curly': 30, 'Larry': 40}\n",
    "assert gen_new_dict(key_list, val_list2) == None\n",
    "print (\"Passed\")"
   ]
  },
  {
   "cell_type": "markdown",
   "id": "287f897e",
   "metadata": {
    "pycharm": {
     "name": "#%% md\n"
    }
   },
   "source": [
    "## Problem 3:\n",
    "## Write a function gen_new_dict(dict1, person_salary_list):\n",
    "- generates a new dict where the salary of persons on the person_salary_list updates valus in the original dictionary\n",
    "- example:\n",
    "<code>\n",
    "company_dict = {\n",
    "    'emp1': {'name': 'Jack', 'salary': 7500},\n",
    "    'emp2': {'name': 'Emma', 'salary': 8000},\n",
    "    'emp3': {'name': 'Brad', 'salary': 500}\n",
    "}\n",
    "</code>\n",
    "\n",
    "\n",
    "person_salary_list = [('Jack', 8800), ('Brad', 5000)]\n",
    "    \n",
    "### NEW DICT\n",
    "<code>   \n",
    "company_dict2 == {\n",
    "    'emp1': {'name': 'Jack', 'salary': 8800},\n",
    "    'emp2': {'name': 'Emma', 'salary': 8000},\n",
    "    'emp3': {'name': 'Brad', 'salary': 5000}\n",
    "}   \n",
    "    \n",
    "</code>    \n"
   ]
  },
  {
   "cell_type": "code",
   "execution_count": 8,
   "id": "c377cae8",
   "metadata": {
    "pycharm": {
     "name": "#%%\n"
    }
   },
   "outputs": [],
   "source": [
    "def gen_new_dict(dict1, person_salary_list):\n",
    "    new_dict = {key: value.copy() for key, value in dict1.items()}\n",
    "\n",
    "    for person in person_salary_list:\n",
    "        name, salary = person\n",
    "\n",
    "        for employee_data in new_dict.values():\n",
    "            if name == employee_data['name']:\n",
    "                employee_data['salary'] = salary\n",
    "\n",
    "    return new_dict\n",
    "   "
   ]
  },
  {
   "cell_type": "code",
   "execution_count": 9,
   "id": "204758c5",
   "metadata": {
    "pycharm": {
     "name": "#%%\n"
    }
   },
   "outputs": [
    {
     "name": "stdout",
     "output_type": "stream",
     "text": [
      "Passed\n"
     ]
    }
   ],
   "source": [
    "# A3 assert\n",
    "\n",
    "company_dict = {\n",
    "    'emp1': {'name': 'Jack', 'salary': 7500},\n",
    "    'emp2': {'name': 'Emma', 'salary': 8000},\n",
    "    'emp3': {'name': 'Brad', 'salary': 500}\n",
    "}\n",
    "\n",
    "person_salary_list = [('Jack', 8800), ('Brad', 5000)]\n",
    "\n",
    "company_dict2 = gen_new_dict(company_dict, person_salary_list)\n",
    "\n",
    "assert company_dict2 == {\n",
    "    'emp1': {'name': 'Jack', 'salary': 8800},\n",
    "    'emp2': {'name': 'Emma', 'salary': 8000},\n",
    "    'emp3': {'name': 'Brad', 'salary': 5000}\n",
    "}\n",
    "\n",
    "assert id(company_dict) != id(company_dict2)\n",
    "\n",
    "print (\"Passed\")"
   ]
  },
  {
   "cell_type": "markdown",
   "id": "a03cf19e",
   "metadata": {
    "pycharm": {
     "name": "#%% md\n"
    }
   },
   "source": [
    "## Problem 4\n",
    "## Write a function get_min_value(dict1):\n",
    "\n",
    "- returns the key with the minimum value.\n",
    "- assume all values are integer"
   ]
  },
  {
   "cell_type": "code",
   "execution_count": 10,
   "id": "4f952cee",
   "metadata": {
    "pycharm": {
     "name": "#%%\n"
    }
   },
   "outputs": [],
   "source": [
    "def find_key(dictionary, value):\n",
    "    for key, val in dictionary.items():\n",
    "        if val == value:\n",
    "            return key\n",
    "\n",
    "def get_min_value(dict1):\n",
    "    min_value = min([value for value in (x for x in dict1.values())])\n",
    "    return find_key(dict1, min_value)\n"
   ]
  },
  {
   "cell_type": "code",
   "execution_count": 11,
   "id": "d8f1d1fc",
   "metadata": {
    "pycharm": {
     "name": "#%%\n"
    }
   },
   "outputs": [
    {
     "name": "stdout",
     "output_type": "stream",
     "text": [
      "Passed\n"
     ]
    }
   ],
   "source": [
    "#4 assert\n",
    "\n",
    "sample_dict = {\n",
    "  'Physics': 82,\n",
    "  'Math': 65,\n",
    "  'History': 75\n",
    "}\n",
    "\n",
    "assert get_min_value(sample_dict) == 'Math'\n",
    "\n",
    "print (\"Passed\")"
   ]
  },
  {
   "cell_type": "markdown",
   "id": "0e330d28",
   "metadata": {
    "pycharm": {
     "name": "#%% md\n"
    }
   },
   "source": [
    "## Problem 5: \n",
    "### write a function gen_dict(list1):\n",
    "- returns a dict of where the key is a word in dict1 and the value is the number of times it appears in the list1 parameter\n"
   ]
  },
  {
   "cell_type": "code",
   "execution_count": 14,
   "id": "472e4079",
   "metadata": {
    "pycharm": {
     "name": "#%%\n"
    }
   },
   "outputs": [],
   "source": [
    "def gen_dict(list1):\n",
    "    return {key: list1.count(key) for key in list1}"
   ]
  },
  {
   "cell_type": "code",
   "execution_count": 15,
   "id": "87504066",
   "metadata": {
    "pycharm": {
     "name": "#%%\n"
    }
   },
   "outputs": [
    {
     "name": "stdout",
     "output_type": "stream",
     "text": [
      "Passed\n"
     ]
    }
   ],
   "source": [
    "# asserts\n",
    "list1 = ['foo', 'bar', 'foo', 'zork', 'zork', 'zork']\n",
    "assert gen_dict(list1)  == {'foo': 2, 'zork': 3, 'bar':1}\n",
    "\n",
    "print (\"Passed\")"
   ]
  },
  {
   "cell_type": "markdown",
   "id": "15481cc2",
   "metadata": {
    "pycharm": {
     "name": "#%%\n"
    }
   },
   "source": [
    "## Problem 6:\n",
    "- Use the Counter class to help generate a dict that tracks the words and the number of times seen in list1"
   ]
  },
  {
   "cell_type": "code",
   "execution_count": 16,
   "id": "c1871f99",
   "metadata": {
    "pycharm": {
     "name": "#%%\n"
    }
   },
   "outputs": [],
   "source": [
    "from collections import Counter\n",
    "\n",
    "def gen_dict_with_counter(list1):\n",
    "    return dict(Counter(list1))\n"
   ]
  },
  {
   "cell_type": "code",
   "execution_count": 17,
   "id": "33113d88",
   "metadata": {
    "pycharm": {
     "name": "#%%\n"
    }
   },
   "outputs": [
    {
     "name": "stdout",
     "output_type": "stream",
     "text": [
      "Passed\n"
     ]
    }
   ],
   "source": [
    "# asserts\n",
    "\n",
    "list1 = ['foo', 'bar', 'foo', 'zork', 'zork', 'zork']\n",
    "assert gen_dict_with_counter(list1)  == {'foo': 2, 'zork': 3, 'bar':1}\n",
    "\n",
    "print (\"Passed\")\n"
   ]
  },
  {
   "cell_type": "markdown",
   "id": "15aceed3",
   "metadata": {
    "pycharm": {
     "name": "#%% md\n"
    }
   },
   "source": [
    "## Problem 7:\n",
    "### Write a function word_list_of_most_unique_sentence(bigstr):\n",
    "\n",
    "- returns a list of the words for the sentence in bigstr with the most individual words.\n",
    "- a sentence is any collection of words separated by a period (.)\n",
    "- example: 'joe jumps over the hay' has 5 unique words.  'joe joe jumps jumps hay' has 3\n",
    "- note how the assert uses sets to compare lists for equality"
   ]
  },
  {
   "cell_type": "code",
   "execution_count": 18,
   "id": "c55008ba",
   "metadata": {
    "pycharm": {
     "name": "#%%\n"
    }
   },
   "outputs": [],
   "source": [
    "import re\n",
    "\n",
    "def word_list_of_most_unique_sentence(bigstr):\n",
    "    most_unique_words = set()\n",
    "    sentences = bigstr.split('. ')\n",
    "    for sentance in sentences:\n",
    "        words = re.split(r\"[,.\\s]+\", sentance)\n",
    "        unique_words = set(words)\n",
    "        most_unique_words = max(unique_words, most_unique_words, key=len)\n",
    "    return list(most_unique_words)"
   ]
  },
  {
   "cell_type": "code",
   "execution_count": 19,
   "id": "553ec8be",
   "metadata": {
    "pycharm": {
     "name": "#%%\n"
    }
   },
   "outputs": [
    {
     "name": "stdout",
     "output_type": "stream",
     "text": [
      "Passed\n"
     ]
    }
   ],
   "source": [
    "# asserts\n",
    "bigstr =  \"bob is very bob. go dog go, go dog go, go dog, go dog. zorro had excellent swordplay. love is love. me me me me me.\"\n",
    "\n",
    "w_list = word_list_of_most_unique_sentence(bigstr)\n",
    "\n",
    "assert isinstance(w_list, list) == True\n",
    "assert set(w_list) == set(['zorro', 'had', 'excellent', 'swordplay'])\n",
    "\n",
    "print (\"Passed\")\n"
   ]
  },
  {
   "cell_type": "markdown",
   "id": "559d68ed",
   "metadata": {
    "pycharm": {
     "name": "#%% md\n"
    }
   },
   "source": [
    "## Problem 8:\n",
    "### Write a function number_of_alpha_sentences(big_str):\n",
    "- return the number of sentences in big_str that have only alphabetic characters and spaces.\n",
    "- the alphabetic characters may be upper or lower case\n"
   ]
  },
  {
   "cell_type": "code",
   "execution_count": 5,
   "id": "4762fede",
   "metadata": {
    "pycharm": {
     "name": "#%%\n"
    }
   },
   "outputs": [],
   "source": [
    "#function definition\n",
    "def number_of_alpha_sentences(big_str):\n",
    "    alpha_sentences_count = 0\n",
    "    sentences = big_str.split(\".\")\n",
    "    for sentence in sentences:\n",
    "        iterable = (x for x in sentence)\n",
    "        if not any(char.isdigit() for char in iterable):\n",
    "            alpha_sentences_count += 1\n",
    "    return alpha_sentences_count - 1\n"
   ]
  },
  {
   "cell_type": "code",
   "execution_count": 6,
   "id": "8b75d298",
   "metadata": {
    "pycharm": {
     "name": "#%%\n"
    }
   },
   "outputs": [
    {
     "name": "stdout",
     "output_type": "stream",
     "text": [
      "Passed\n"
     ]
    }
   ],
   "source": [
    "#asserts\n",
    "\n",
    "big_str = \"Bob ate 9 pizzas. Zelda    called the doctor. The doctor said maybe he should go on TV. Zelda gave him 2 aspirin.\"\n",
    "\n",
    "assert number_of_alpha_sentences(big_str) == 2\n",
    "\n",
    "print (\"Passed\")"
   ]
  },
  {
   "cell_type": "markdown",
   "id": "9d218e1f",
   "metadata": {
    "pycharm": {
     "name": "#%% md\n"
    }
   },
   "source": [
    "## Problem 9:\n",
    "### Write a function  keep_odd_numbers(s):\n",
    "- returns a string that contains only the odd numbers in the string passed in as s\n"
   ]
  },
  {
   "cell_type": "code",
   "execution_count": 7,
   "id": "fc9badc7",
   "metadata": {
    "pycharm": {
     "name": "#%%\n"
    }
   },
   "outputs": [],
   "source": [
    "# function definition\n",
    "def keep_odd_numbers(s):\n",
    "    odd_nums = ''\n",
    "    for char in (x for x in s):\n",
    "        if not char.isdigit():\n",
    "            continue\n",
    "        num = int(char)\n",
    "        if num % 2 != 0:\n",
    "            odd_nums += str(num)\n",
    "    return odd_nums"
   ]
  },
  {
   "cell_type": "code",
   "execution_count": 8,
   "id": "46391122",
   "metadata": {
    "pycharm": {
     "name": "#%%\n"
    }
   },
   "outputs": [
    {
     "name": "stdout",
     "output_type": "stream",
     "text": [
      "Passed\n"
     ]
    }
   ],
   "source": [
    "#assert\n",
    "assert keep_odd_numbers(\"abc1234567&&zzxcvcbc9\")  == \"13579\"\n",
    "print (\"Passed\")"
   ]
  },
  {
   "cell_type": "markdown",
   "id": "31cd72ee",
   "metadata": {
    "pycharm": {
     "name": "#%% md\n"
    }
   },
   "source": [
    "## Problem 10:\n",
    "### Write a function is_contained_in(s1, s2):\n",
    "- return True if all the characters in s1 appear in s2"
   ]
  },
  {
   "cell_type": "code",
   "execution_count": null,
   "id": "79b74a40",
   "metadata": {
    "pycharm": {
     "name": "#%%\n"
    }
   },
   "outputs": [],
   "source": [
    "# function definition\n",
    "def is_contained_in(s1, s2):\n",
    "    return set(s1) < set(s2)\n"
   ]
  },
  {
   "cell_type": "code",
   "execution_count": null,
   "id": "1de3988f",
   "metadata": {
    "pycharm": {
     "name": "#%%\n"
    }
   },
   "outputs": [],
   "source": [
    "#asserts \n",
    "assert is_contained_in('AbC', 'DeF') == False\n",
    "assert is_contained_in('Ap', 'Apple Computer') == True\n",
    "assert is_contained_in('Apx', 'Apple Computer') == False\n",
    "print (\"Passed\")"
   ]
  },
  {
   "cell_type": "code",
   "execution_count": null,
   "id": "9245aaed",
   "metadata": {},
   "outputs": [],
   "source": []
  }
 ],
 "metadata": {
  "kernelspec": {
   "display_name": "Python 3 (ipykernel)",
   "language": "python",
   "name": "python3"
  },
  "language_info": {
   "codemirror_mode": {
    "name": "ipython",
    "version": 3
   },
   "file_extension": ".py",
   "mimetype": "text/x-python",
   "name": "python",
   "nbconvert_exporter": "python",
   "pygments_lexer": "ipython3",
   "version": "3.10.9"
  }
 },
 "nbformat": 4,
 "nbformat_minor": 5
}
