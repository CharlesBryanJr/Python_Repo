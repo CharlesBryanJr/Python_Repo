{
 "cells": [
  {
   "cell_type": "markdown",
   "id": "c106a086",
   "metadata": {
    "pycharm": {
     "name": "#%% md\n"
    }
   },
   "source": [
    "## "
   ]
  },
  {
   "cell_type": "markdown",
   "id": "7a01c6e2",
   "metadata": {
    "pycharm": {
     "name": "#%% md\n"
    }
   },
   "source": [
    "# Assignment 4\n",
    "\n",
    "\n",
    "## Pyton Coding Guidelines (https://peps.python.org/pep-0008)\n",
    "\n",
    "## For each problem you need to write code for a function based on the requirements. \n",
    "- The function initally only contains the code 'pass' which does nothing\n",
    "- Your task is to write correct code that follows the coding guidelines.\n",
    "- In the cell following the code cell, the assertion statements that will test your code.\n",
    "- If there is an error, the assertion will throw an Error.\n",
    "- If you pass all the assertions, you will see the print statement display 'Passed'\n",
    "\n",
    "\n",
    "## Rename this Jupyter Notebook as: a4.lastname.ipynb\n",
    "## Submit your notebook to Canvas in a zip file named as: a4.lastname.zip\n",
    "### be sure to name BOTH the zip and notebook it with YOUR last name\n"
   ]
  },
  {
   "cell_type": "markdown",
   "id": "a806043b",
   "metadata": {
    "pycharm": {
     "name": "#%% md\n"
    }
   },
   "source": [
    "## Name and SMU ID"
   ]
  },
  {
   "cell_type": "code",
   "execution_count": 1,
   "id": "46791955",
   "metadata": {
    "pycharm": {
     "name": "#%%\n"
    }
   },
   "outputs": [],
   "source": [
    "# Name: Charles Bryan\n",
    "# SMU ID: 49350684"
   ]
  },
  {
   "cell_type": "markdown",
   "id": "6ba1a4c1",
   "metadata": {
    "pycharm": {
     "name": "#%% md\n"
    }
   },
   "source": [
    "## Problem 1\n",
    "\n",
    "- Write a function is_ok_phone_number(str): \n",
    "- must begin with ONLY area codes: 212, 718 \n",
    "- separator can be either period (.) or dash(-) but not mixed\n",
    "- example: 212.987.2123, 718-222-3365\n",
    "\n"
   ]
  },
  {
   "cell_type": "code",
   "execution_count": 2,
   "id": "a77acb0d",
   "metadata": {
    "pycharm": {
     "name": "#%%\n"
    }
   },
   "outputs": [],
   "source": [
    "#  Write code \n",
    "def correct_area_code(string):\n",
    "    correct_area_codes = ['212', '718']\n",
    "    area_code = string[:3]\n",
    "    return area_code in correct_area_codes\n",
    "\n",
    "def mixed_separator(string):\n",
    "    period_count = string.count('.')\n",
    "    dash_count = string.count('-')\n",
    "    return period_count >= 1 and dash_count >= 1\n",
    "\n",
    "def is_ok_phone_number(str):\n",
    "    if not correct_area_code(str):\n",
    "        return False\n",
    "    if mixed_separator(str):\n",
    "        return False\n",
    "    return True\n",
    "\n"
   ]
  },
  {
   "cell_type": "code",
   "execution_count": 3,
   "id": "e082eb38",
   "metadata": {
    "pycharm": {
     "name": "#%%\n"
    }
   },
   "outputs": [
    {
     "name": "stdout",
     "output_type": "stream",
     "text": [
      "Passed\n"
     ]
    }
   ],
   "source": [
    "# Assertions  \n",
    "\n",
    "assert is_ok_phone_number('212.207.8876') == True\n",
    "assert is_ok_phone_number('212.207-8876') == False\n",
    "assert is_ok_phone_number('718.207.8876') == True\n",
    "assert is_ok_phone_number('912.207.8876') == False\n",
    "assert is_ok_phone_number('212-207-8876') == True\n",
    "\n",
    "print (\"Passed\")"
   ]
  },
  {
   "cell_type": "markdown",
   "id": "72ffdd8a",
   "metadata": {
    "pycharm": {
     "name": "#%% md\n"
    }
   },
   "source": [
    "## Problem 2: \n",
    "- write a function test_str1(s) that uses regex to test for a match\n",
    "- You have a string s \n",
    "- return True if:\n",
    "-- it begins with a digit.\n",
    "-- ends with a period (.) symbol.\n",
    "-- contains only word characters between the start and end of teh string\n",
    "-- the length of the string is 6 characters long only.\n",
    "- False otherwise"
   ]
  },
  {
   "cell_type": "code",
   "execution_count": 4,
   "id": "f796f329",
   "metadata": {
    "pycharm": {
     "name": "#%%\n"
    }
   },
   "outputs": [],
   "source": [
    "# function\n",
    "import regex as re\n",
    "\n",
    "def test_str1(s):\n",
    "    pattern = r\"^(\\d)(\\w{4})(\\.$)\"\n",
    "    match = re.search(pattern, s)\n",
    "    return bool(match)\n"
   ]
  },
  {
   "cell_type": "code",
   "execution_count": 5,
   "id": "6263c2d5",
   "metadata": {
    "pycharm": {
     "name": "#%%\n"
    }
   },
   "outputs": [
    {
     "name": "stdout",
     "output_type": "stream",
     "text": [
      "Passed\n"
     ]
    }
   ],
   "source": [
    "# Assert 2\n",
    "assert test_str1('6qwer.') == True\n",
    "assert test_str1('6qwer,') == False\n",
    "assert test_str1('6qweer.') == False\n",
    "assert test_str1('6q&er.') == False\n",
    "assert test_str1('Aqwer.') == False                      \n",
    "print (\"Passed\")"
   ]
  },
  {
   "cell_type": "markdown",
   "id": "287f897e",
   "metadata": {
    "pycharm": {
     "name": "#%% md\n"
    }
   },
   "source": [
    "###### Problem 3:\n",
    "## Write a function test_str2(s):\n",
    "- return True if \n",
    "-- the string begins with any of the letters a-g\n",
    "-- the second character is a number in the range 3-6\n",
    "-- the third character may be any character\n",
    "-- the fourth chracter may be anything except A or B or C\n",
    "- return False otherwise"
   ]
  },
  {
   "cell_type": "code",
   "execution_count": 14,
   "id": "c377cae8",
   "metadata": {
    "pycharm": {
     "name": "#%%\n"
    }
   },
   "outputs": [],
   "source": [
    "# 3 code\n",
    "\n",
    "def test_str2(s):\n",
    "    pattern = r'^[a-g][3-6].[^ABC]$'\n",
    "    match = re.search(pattern, s)\n",
    "    return bool(match)\n"
   ]
  },
  {
   "cell_type": "code",
   "execution_count": 15,
   "id": "204758c5",
   "metadata": {
    "pycharm": {
     "name": "#%%\n"
    }
   },
   "outputs": [
    {
     "name": "stdout",
     "output_type": "stream",
     "text": [
      "Passed\n"
     ]
    }
   ],
   "source": [
    "assert test_str2('a6&y') == True\n",
    "assert test_str2('a6&yd') == False\n",
    "assert test_str2('96&y') == False\n",
    "\n",
    "print (\"Passed\")"
   ]
  },
  {
   "cell_type": "markdown",
   "id": "a03cf19e",
   "metadata": {
    "pycharm": {
     "name": "#%% md\n"
    }
   },
   "source": [
    "## Problem 4\n",
    "- write a function test_str4(s):\n",
    "-- uses regex\n",
    "-- s must be length 10\n",
    "-- The first 5 characters should consist of letters(both lowercase and uppercase), or of even digits.\n",
    "-- The last 5 characters should consist of odd digits or whitespace characters.\n",
    " "
   ]
  },
  {
   "cell_type": "code",
   "execution_count": 16,
   "id": "c1219f21",
   "metadata": {
    "pycharm": {
     "name": "#%%\n"
    }
   },
   "outputs": [],
   "source": [
    "import regex as re\n",
    "\n",
    "def test_str4(s):\n",
    "    pattern = r'^([a-zA-Z2468]{5})([13579\\s]{5})$'\n",
    "    match = re.search(pattern, s)\n",
    "    return bool(match)"
   ]
  },
  {
   "cell_type": "code",
   "execution_count": 17,
   "id": "4f952cee",
   "metadata": {
    "pycharm": {
     "name": "#%%\n"
    },
    "scrolled": true
   },
   "outputs": [
    {
     "name": "stdout",
     "output_type": "stream",
     "text": [
      "Passed\n"
     ]
    }
   ],
   "source": [
    "assert test_str4(\"aaa6413511\") == True\n",
    "assert test_str4(\"aaa64135  \") == True\n",
    "assert test_str4(\"aaa641351\\t\") == True\n",
    "assert test_str4(\"aaa64135117\") == False\n",
    "\n",
    "print (\"Passed\")"
   ]
  },
  {
   "cell_type": "markdown",
   "id": "0e330d28",
   "metadata": {
    "pycharm": {
     "name": "#%% md\n"
    }
   },
   "source": [
    "## Problem 5: \n",
    "### write a function test_str5(s):\n",
    "- Using regex tests that a string must start with Mr., Mrs., Ms., or  Dr.  followed by a one or more space characters followed by a name\n",
    "- The name must begin with an uppercase letter followed by any number of lowercase letters\n",
    "- return True or False\n"
   ]
  },
  {
   "cell_type": "code",
   "execution_count": 18,
   "id": "472e4079",
   "metadata": {
    "pycharm": {
     "name": "#%%\n"
    }
   },
   "outputs": [],
   "source": [
    "def test_str5(s):\n",
    "    pattern = r'^(Mr\\.|Mrs\\.|Ms\\.|Dr\\.)(\\s+)([A-Z])([a-z]*$)'\n",
    "    match = re.search(pattern, s)\n",
    "    return bool(match)"
   ]
  },
  {
   "cell_type": "code",
   "execution_count": 19,
   "id": "87504066",
   "metadata": {
    "pycharm": {
     "name": "#%%\n"
    }
   },
   "outputs": [
    {
     "name": "stdout",
     "output_type": "stream",
     "text": [
      "Passed\n"
     ]
    }
   ],
   "source": [
    "#asserts\n",
    "assert test_str5(\"Dr. Jones\")  == True\n",
    "assert test_str5(\"Dr.\\t\\tJones\")  == True\n",
    "assert test_str5(\"Ms. JJnes\")  == False\n",
    "assert test_str5(\"Mrs Smyths\")  == False\n",
    "\n",
    "print (\"Passed\")"
   ]
  },
  {
   "cell_type": "markdown",
   "id": "15481cc2",
   "metadata": {
    "pycharm": {
     "name": "#%%\n"
    }
   },
   "source": [
    "## Problem 6:\n",
    "- Your task is to write a function test_str6(s)\n",
    "- you are given a string with multiple sentences (end in .). For each sentence that contains with the phrase: \n",
    "-- someone1 knows someone2\n",
    "-- where there may be multiple spaces before and after the word 'knows'\n",
    "-- use regex groups to add someone1 to a list of subjects\n",
    "-- use regex groups to add someone2 to a list of objects\n",
    "-- return both the list of subjects and the list of objects\n",
    "\n",
    "\n",
    "\n"
   ]
  },
  {
   "cell_type": "code",
   "execution_count": 20,
   "id": "c1871f99",
   "metadata": {
    "pycharm": {
     "name": "#%%\n"
    }
   },
   "outputs": [],
   "source": [
    "# function definition\n",
    "# x likes z  - return subjects and objcts\n",
    "import regex as re\n",
    "\n",
    "def test_str6(big_s):\n",
    "    sentences = big_s.split('.')\n",
    "    subjects = []\n",
    "    objects = []\n",
    "    for sentence in sentences:\n",
    "        pattern = r'(^\\s*)(\\w*)(\\s*)(knows)(\\s*)(\\w*)'\n",
    "        match = re.search(pattern, sentence)\n",
    "        if bool(match):\n",
    "            subjects.append(match[2])\n",
    "            objects.append(match[6])\n",
    "    return subjects, objects"
   ]
  },
  {
   "cell_type": "code",
   "execution_count": 21,
   "id": "33113d88",
   "metadata": {
    "pycharm": {
     "name": "#%%\n"
    },
    "scrolled": true
   },
   "outputs": [
    {
     "name": "stdout",
     "output_type": "stream",
     "text": [
      "Passed\n"
     ]
    }
   ],
   "source": [
    "#asserts\n",
    "\n",
    "big_str = \"joe knows bob. ed    knows    marie. zz xx cc\"\n",
    "slist, olist = test_str6(big_str)\n",
    "\n",
    "assert test_str6(big_str) == (['joe', 'ed'], ['bob', 'marie'])\n",
    "\n",
    "print (\"Passed\")"
   ]
  },
  {
   "cell_type": "markdown",
   "id": "15aceed3",
   "metadata": {
    "pycharm": {
     "name": "#%% md\n"
    }
   },
   "source": [
    "## Problem 7:\n",
    "### Write a function : get_html_tag_names(s):\n",
    "- return a set of all the html tags in the string\n",
    "- html elements are written between 2 tags : <name>....text  ...</name>\n",
    "\n"
   ]
  },
  {
   "cell_type": "code",
   "execution_count": 38,
   "id": "c55008ba",
   "metadata": {
    "pycharm": {
     "name": "#%%\n"
    }
   },
   "outputs": [],
   "source": [
    "def get_html_tag_names(s):\n",
    "    html_tags = set()\n",
    "    pattern = r'<([^/\\s>]+)'\n",
    "    matches = re.findall(pattern, s)\n",
    "    for match in matches:\n",
    "        html_tags.add(match)\n",
    "    return html_tags"
   ]
  },
  {
   "cell_type": "code",
   "execution_count": 39,
   "id": "553ec8be",
   "metadata": {
    "pycharm": {
     "name": "#%%\n"
    }
   },
   "outputs": [],
   "source": [
    "#asserts \n",
    "s = '''\n",
    "    <p><a href='http://www.quackit.com/html/tutorial/html_links.cfm\">Example Link</a></p><div class=\"more-info\"><a href=\"http://www.quackit.com/html/examples/html_links_examples.cfm\">More Link Examples...</a></div>\n",
    "    '''\n",
    "tag_set = get_html_tag_names(s)\n",
    "\n",
    "assert tag_set == {'p', 'a', 'div'}\n"
   ]
  },
  {
   "cell_type": "markdown",
   "id": "559d68ed",
   "metadata": {
    "pycharm": {
     "name": "#%% md\n"
    }
   },
   "source": [
    "## Problem 8:\n",
    "### Write a function : is_ip_address(s):\n",
    "-- return True if the s is an IPv4 or IPV5 address, False otherwise\n",
    "IPv4 was the first publicly used Internet Protocol which used 4 byte addresses which permitted for 232 addresses. The typical format of an IPv4 address is A.B.C.D where A, B, C and D are Integers lying between 0 and 255 (both inclusive).\n",
    "\n",
    "IPv6, with 128 bits was developed to permit the expansion of the address space. To quote from the linked article: The 128 bits of an IPv6 address are represented in 8 groups of 16 bits each. Each group is written as 4 hexadecimal lowercase digits and the groups are separated by colons (:). The address 2001:0db8:0000:0000:0000:ff00:0042:8329 is an example of this representation.\n",
    "\n"
   ]
  },
  {
   "cell_type": "code",
   "execution_count": 48,
   "id": "588f1078",
   "metadata": {
    "pycharm": {
     "name": "#%%\n"
    }
   },
   "outputs": [],
   "source": [
    "import re\n",
    "\n",
    "def is_IPv4(s):\n",
    "    IP_address = s.split('.')\n",
    "    pattern = r'^(?:\\d{1,3}\\.){3}\\d{1,3}$'\n",
    "    for num in IP_address:\n",
    "        if not re.match(pattern, num):\n",
    "            return False\n",
    "    return True\n",
    "\n",
    "def is_IPv6(s):\n",
    "    IP_address = s.split(':')\n",
    "    pattern = r'^([0-9a-fA-F]{1,4}:){7}[0-9a-fA-F]{1,4}$'\n",
    "    for group in IP_address:\n",
    "        if not re.match(pattern, group):\n",
    "            return False\n",
    "    return True\n",
    "\n",
    "def is_ip_address(s):\n",
    "    return is_IPv4(s) or is_IPv6(s)\n"
   ]
  },
  {
   "cell_type": "code",
   "execution_count": 49,
   "id": "7ad19bae",
   "metadata": {},
   "outputs": [
    {
     "ename": "AssertionError",
     "evalue": "",
     "output_type": "error",
     "traceback": [
      "\u001b[0;31m---------------------------------------------------------------------------\u001b[0m",
      "\u001b[0;31mAssertionError\u001b[0m                            Traceback (most recent call last)",
      "Cell \u001b[0;32mIn[49], line 2\u001b[0m\n\u001b[1;32m      1\u001b[0m \u001b[38;5;66;03m# assert\u001b[39;00m\n\u001b[0;32m----> 2\u001b[0m \u001b[38;5;28;01massert\u001b[39;00m is_ip_address(\u001b[38;5;124m\"\u001b[39m\u001b[38;5;124m120.08.9.255\u001b[39m\u001b[38;5;124m\"\u001b[39m) \u001b[38;5;241m==\u001b[39m \u001b[38;5;28;01mTrue\u001b[39;00m\n\u001b[1;32m      3\u001b[0m \u001b[38;5;28;01massert\u001b[39;00m is_ip_address(\u001b[38;5;124m\"\u001b[39m\u001b[38;5;124m120.08.9.265\u001b[39m\u001b[38;5;124m\"\u001b[39m) \u001b[38;5;241m==\u001b[39m \u001b[38;5;28;01mFalse\u001b[39;00m\n\u001b[1;32m      4\u001b[0m \u001b[38;5;28;01massert\u001b[39;00m is_ip_address(\u001b[38;5;124m\"\u001b[39m\u001b[38;5;124m120.08.9.255.20\u001b[39m\u001b[38;5;124m\"\u001b[39m) \u001b[38;5;241m==\u001b[39m \u001b[38;5;28;01mFalse\u001b[39;00m\n",
      "\u001b[0;31mAssertionError\u001b[0m: "
     ]
    }
   ],
   "source": [
    "# assert\n",
    "assert is_ip_address(\"120.08.9.255\") == True\n",
    "assert is_ip_address(\"120.08.9.265\") == False\n",
    "assert is_ip_address(\"120.08.9.255.20\") == False\n",
    "assert is_ip_address(\"A.08.9.25\") == False\n",
    "print (\"Pass IPV4\")\n",
    "assert is_ip_address(\"2001:0db8:0000:0000:0000:ff00:0042:8329:2123\") == False\n",
    "assert is_ip_address(\"2001:0db8:0000:0000:0000:ff00:0042:8329\") == True\n",
    "assert is_ip_address(\"2001:0dm8:0000:0000:0000:ff00:0042:8329\") == False\n",
    "assert is_ip_address(\"2001:0db8:0000:0000:0000:ff00:042:8329\") == False\n",
    "print (\"Pass IPV6\")"
   ]
  },
  {
   "cell_type": "markdown",
   "id": "78aee1de",
   "metadata": {},
   "source": [
    "## Problem 9\n",
    "### Write a function: gen_dict_from_file(filename) :\n",
    "- that reads a text file and returns a dictionary where the keys are the words in the file and the value is the number of times the word appears in the file. \n",
    "- note: a word is defined by the regex definition for \\w+"
   ]
  },
  {
   "cell_type": "code",
   "execution_count": 26,
   "id": "cefe5cad",
   "metadata": {},
   "outputs": [],
   "source": [
    "def gen_dict_from_file(filename):\n",
    "    try:\n",
    "        with open(filename, 'r') as file:\n",
    "            text = file.read()\n",
    "            pattern = r'\\w+'\n",
    "            word_list = re.findall(pattern, text)\n",
    "            word_set = set(re.findall(pattern, text))\n",
    "            word_count = {}\n",
    "            for word in word_set:\n",
    "                word_count[word] = word_list.count(word)\n",
    "            return word_count\n",
    "\n",
    "    except FileNotFoundError:\n",
    "        print('The file name you specified does not exist')\n",
    "                "
   ]
  },
  {
   "cell_type": "code",
   "execution_count": 27,
   "id": "92ac1a0c",
   "metadata": {},
   "outputs": [
    {
     "name": "stdout",
     "output_type": "stream",
     "text": [
      "Passed\n"
     ]
    }
   ],
   "source": [
    "# assert\n",
    "assert gen_dict_from_file('a4q9.txt') == {'rollo': 3, 'ate': 1, 'pizza': 4, 'a': 1, 'with': 2, 'anchovies': 2, 'likes': 2, '22': 1}\n",
    "print (\"Passed\")"
   ]
  },
  {
   "cell_type": "markdown",
   "id": "44ac3a07",
   "metadata": {},
   "source": [
    "## Problem 10\n",
    "### write a function count_lines (filename)\n",
    "- return the number of lines in the file\n",
    "- a line is a sequence of characters followed by a newline \\n"
   ]
  },
  {
   "cell_type": "code",
   "execution_count": 28,
   "id": "73433cf3",
   "metadata": {},
   "outputs": [],
   "source": [
    "def count_lines(filename):\n",
    "    try:\n",
    "        with open(filename, 'r') as file:\n",
    "            text = file.read()\n",
    "            pattern = r'\\n'\n",
    "            match = re.findall(pattern, text)\n",
    "            return len(match)\n",
    "\n",
    "    except FileNotFoundError:\n",
    "        print('The file name you specified does not exist')\n"
   ]
  },
  {
   "cell_type": "code",
   "execution_count": 29,
   "id": "0c2da375",
   "metadata": {},
   "outputs": [
    {
     "name": "stdout",
     "output_type": "stream",
     "text": [
      "Passed\n"
     ]
    }
   ],
   "source": [
    "# assert\n",
    "\n",
    "assert count_lines('a4q10.txt') == 5\n",
    "print (\"Passed\")"
   ]
  },
  {
   "cell_type": "markdown",
   "id": "1f5a39d6",
   "metadata": {},
   "source": [
    "## Problem 11\n",
    "### write a function read_json(filename):\n",
    "- the file contains json of the form:\n",
    "-- {'accounts': [{'account': 100, 'name': 'Jones', 'balance': 24}, {'account': 200, 'name': 'Doe', 'balance': 345}]}\n",
    "- read the json into a python data structure and return the sum of all the balances"
   ]
  },
  {
   "cell_type": "code",
   "execution_count": 32,
   "id": "c578dd4b",
   "metadata": {},
   "outputs": [],
   "source": [
    "import json\n",
    "def read_json(fname):\n",
    "    try:\n",
    "        with open(fname, 'r') as file:\n",
    "            data = json.load(file)\n",
    "            accounts_sum = 0\n",
    "            for account in data['accounts']:\n",
    "                accounts_sum += int(account['balance'])\n",
    "            return accounts_sum\n",
    "    except FileNotFoundError:\n",
    "        print('The file name you specified does not exist')"
   ]
  },
  {
   "cell_type": "code",
   "execution_count": 33,
   "id": "865ac5c7",
   "metadata": {},
   "outputs": [
    {
     "name": "stdout",
     "output_type": "stream",
     "text": [
      "Passed\n"
     ]
    }
   ],
   "source": [
    "# assert\n",
    "assert read_json('a4q11.json') == 369\n",
    "print (\"Passed\")"
   ]
  },
  {
   "cell_type": "markdown",
   "id": "d8584c9e",
   "metadata": {},
   "source": [
    "## Problem 12\n",
    "### write a function read_csv_get_amount(filename):\n",
    "- the file contains csv that may or may not contain a field called amount\n",
    "- if the file contains an amount field, return the sum of all the amounts\n",
    "- if the file does not contain a field called amount, return None\n",
    "- note: the position of amount in the csv file may vary\n"
   ]
  },
  {
   "cell_type": "code",
   "execution_count": 34,
   "id": "60f6e912",
   "metadata": {},
   "outputs": [],
   "source": [
    "#code\n",
    "import csv\n",
    "def get_col_num(reader, field):\n",
    "    col_num = 0\n",
    "    for row in reader:\n",
    "        for col in row:\n",
    "            if col == field:\n",
    "                return col_num\n",
    "            col_num += 1\n",
    "    return -1\n",
    "\n",
    "def read_csv_get_amount(filename):\n",
    "    try:\n",
    "        with open(filename, 'r', newline='') as file:\n",
    "            reader = csv.reader(file)\n",
    "            col_num = get_col_num(reader, 'amount')\n",
    "            if col_num == -1:\n",
    "                return None\n",
    "\n",
    "            amount_sum = 0\n",
    "            for row in reader:\n",
    "                amount_sum += int(row[col_num])\n",
    "            return amount_sum\n",
    "\n",
    "    except FileNotFoundError:\n",
    "        print('The file name you specified does not exist')"
   ]
  },
  {
   "cell_type": "code",
   "execution_count": 35,
   "id": "715d0f9f",
   "metadata": {},
   "outputs": [
    {
     "name": "stdout",
     "output_type": "stream",
     "text": [
      "Passed\n"
     ]
    }
   ],
   "source": [
    "#assert #12\n",
    "assert read_csv_get_amount('a4q12.csv')  == 1500\n",
    "assert read_csv_get_amount('a4q12b.csv')  == 1554\n",
    "assert read_csv_get_amount('a4q12c.csv')  == None\n",
    "print('Passed')"
   ]
  },
  {
   "cell_type": "markdown",
   "id": "e5e1cf9c",
   "metadata": {},
   "source": [
    "## Problem 13\n",
    "### write a function catch_div_zero(v1, v2):\n",
    "- the code provided returns the result of dividing v1 by v2\n",
    "- However, the code will throw Exception/Errors if\n",
    "-- division by zero occurs, or\n",
    "-- a non-numeric value is passed as a parameter\n",
    "\n",
    "- your task is to use a try..except block catch a ZeroDivisionError or a TypeError\n",
    "- and return the either the string 'ZeroDiv' or 'TypeError'\n",
    "- If no exception, then return the result of the division\n",
    "\n"
   ]
  },
  {
   "cell_type": "code",
   "execution_count": 36,
   "id": "b2997aa3",
   "metadata": {},
   "outputs": [],
   "source": [
    "#code\n",
    "def catch_div_zero(v1, v2):\n",
    "    try:\n",
    "        return v1 / v2\n",
    "    except TypeError:\n",
    "        return 'TypeError'\n",
    "    except ZeroDivisionError:\n",
    "        return 'ZeroDiv'"
   ]
  },
  {
   "cell_type": "code",
   "execution_count": 37,
   "id": "d9aa8b7c",
   "metadata": {},
   "outputs": [
    {
     "name": "stdout",
     "output_type": "stream",
     "text": [
      "Passed\n"
     ]
    }
   ],
   "source": [
    "# assert\n",
    "assert catch_div_zero(4,2) == 2.0\n",
    "assert catch_div_zero(4,0) == 'ZeroDiv'\n",
    "assert catch_div_zero(4,'9') == \"TypeError\"\n",
    "print (\"Passed\")"
   ]
  },
  {
   "cell_type": "code",
   "execution_count": null,
   "id": "bd049d95",
   "metadata": {},
   "outputs": [],
   "source": []
  }
 ],
 "metadata": {
  "kernelspec": {
   "display_name": "Python 3 (ipykernel)",
   "language": "python",
   "name": "python3"
  },
  "language_info": {
   "codemirror_mode": {
    "name": "ipython",
    "version": 3
   },
   "file_extension": ".py",
   "mimetype": "text/x-python",
   "name": "python",
   "nbconvert_exporter": "python",
   "pygments_lexer": "ipython3",
   "version": "3.10.9"
  }
 },
 "nbformat": 4,
 "nbformat_minor": 5
}
