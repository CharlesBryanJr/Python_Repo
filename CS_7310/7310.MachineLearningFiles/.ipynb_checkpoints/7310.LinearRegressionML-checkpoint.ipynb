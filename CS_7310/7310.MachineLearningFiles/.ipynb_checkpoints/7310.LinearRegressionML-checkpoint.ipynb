{
 "cells": [
  {
   "cell_type": "markdown",
   "id": "1486c0da",
   "metadata": {},
   "source": [
    "# Linear Regression Machine Learning Example\n",
    "## Build a ML Model to predict car prices based on car features"
   ]
  },
  {
   "cell_type": "code",
   "execution_count": null,
   "id": "1e4e5f87",
   "metadata": {},
   "outputs": [],
   "source": [
    "import pandas as pd\n",
    "import matplotlib.pyplot as plt\n",
    "import seaborn as sns\n",
    "from sklearn.model_selection import train_test_split\n",
    "from sklearn.linear_model import LinearRegression\n",
    "from sklearn import metrics\n",
    "\n",
    "# Loading the data\n",
    "car_data = pd.read_csv('car_data.csv')\n",
    "\n",
    "# look at some of the data\n",
    "car_data.head()"
   ]
  },
  {
   "cell_type": "markdown",
   "id": "0cc02824",
   "metadata": {},
   "source": [
    "# Get information about the dataset "
   ]
  },
  {
   "cell_type": "code",
   "execution_count": null,
   "id": "cf8c8c66",
   "metadata": {},
   "outputs": [],
   "source": [
    "car_data.info() "
   ]
  },
  {
   "cell_type": "markdown",
   "id": "c71eeb39",
   "metadata": {},
   "source": [
    "## What we know\n",
    "- The dataset has 301 rows and 9 columns and there are no null values in it. \n",
    "-  Dtype 'object' means text data\n",
    "- The output ‘Selling_Price’ is the target, and there are multiple independent variables that affect this value. \n",
    "- This is a type of supervised Machine Learning problem where the output variables are labeled and the model is first trained on split data. \n",
    "- The model is then verified for its accuracy on validation/test data. "
   ]
  },
  {
   "cell_type": "markdown",
   "id": "dbe4af83",
   "metadata": {},
   "source": [
    "# Replace text descriptions with numbers"
   ]
  },
  {
   "cell_type": "code",
   "execution_count": null,
   "id": "ffa76eb9",
   "metadata": {},
   "outputs": [],
   "source": [
    "# encoding Columns - replace text with numbers\n",
    "car_data.replace({'Fuel_Type':{'Petrol':0,'Diesel':1,'CNG':2}},inplace=True) \n",
    "car_data.replace({'Seller_Type':{'Dealer':0,'Individual':1}},inplace=True) \n",
    "car_data.replace({'Transmission':{'Manual':0,'Automatic':1}},inplace=True) \n",
    "\n",
    "# display revised data frame\n",
    "car_data.head()"
   ]
  },
  {
   "cell_type": "markdown",
   "id": "ccdf6eda",
   "metadata": {},
   "source": [
    "# Check how data correlates\n",
    "To understand the relationship between different attributes in the dataset, we plot a correlation matrix.\n",
    "- this information may be used to remove highly correlated data in order to make machine learning more efficient"
   ]
  },
  {
   "cell_type": "code",
   "execution_count": null,
   "id": "6a50d77f",
   "metadata": {},
   "outputs": [],
   "source": [
    "corrMatrix = car_data.corr() \n",
    "sns.heatmap(corrMatrix, annot=True, cmap='viridis') \n",
    "plt.show() \n"
   ]
  },
  {
   "cell_type": "markdown",
   "id": "bf545717",
   "metadata": {},
   "source": [
    "# Drop columns from our data set\n",
    "- Car_name has no relevance\n",
    "- Selling_Price is what we are trying to predict"
   ]
  },
  {
   "cell_type": "code",
   "execution_count": null,
   "id": "d9f513c3",
   "metadata": {},
   "outputs": [],
   "source": [
    "X = car_data.drop(['Car_Name','Selling_Price'],axis=1) \n",
    "X.head(7)"
   ]
  },
  {
   "cell_type": "code",
   "execution_count": null,
   "id": "39adbe8a",
   "metadata": {},
   "outputs": [],
   "source": [
    "# Create a separate 1 column matrix for the prices\n",
    "Y = car_data['Selling_Price'] \n",
    "Y.head(7)"
   ]
  },
  {
   "cell_type": "markdown",
   "id": "04cccb66",
   "metadata": {},
   "source": [
    "# Split the data set into two parts\n",
    "- training (usually 80%)\n",
    "- testing (usually 20%)"
   ]
  },
  {
   "cell_type": "code",
   "execution_count": null,
   "id": "b855bdc4",
   "metadata": {},
   "outputs": [],
   "source": [
    "X_train, X_test, Y_train, Y_test = train_test_split(X, Y, test_size = 0.2, random_state=42) "
   ]
  },
  {
   "cell_type": "code",
   "execution_count": null,
   "id": "379be533",
   "metadata": {},
   "outputs": [],
   "source": [
    "# create a linear regression model (using the constructor)\n",
    "lin_reg_model = LinearRegression() \n",
    "\n",
    "# Now we can fit the model to our dataset \n",
    "lin_reg_model.fit(X_train,Y_train)\n",
    "\n",
    "print (\"Linear Regression Model created\")\n"
   ]
  },
  {
   "cell_type": "markdown",
   "id": "eae19f67",
   "metadata": {},
   "source": [
    "# Generate prediction based on Training data\n",
    "## Here we test how accurate we are over the training (not test) data"
   ]
  },
  {
   "cell_type": "code",
   "execution_count": null,
   "id": "0cedea90",
   "metadata": {},
   "outputs": [],
   "source": [
    "training_data_prediction = lin_reg_model.predict(X_train) "
   ]
  },
  {
   "cell_type": "code",
   "execution_count": null,
   "id": "acfb3833",
   "metadata": {},
   "outputs": [],
   "source": [
    "# R squared Error \n",
    "train_error_score = metrics.r2_score(Y_train, training_data_prediction) \n",
    "\n",
    "print(\"R squared Error - for Training  Data: \", train_error_score) \n"
   ]
  },
  {
   "cell_type": "markdown",
   "id": "7d38dc59",
   "metadata": {},
   "source": [
    "# Predict using Test data "
   ]
  },
  {
   "cell_type": "code",
   "execution_count": null,
   "id": "4aa809a1",
   "metadata": {},
   "outputs": [],
   "source": [
    "Y_pred = lin_reg_model.predict(X_test) \n",
    "\n",
    "test_error_score = metrics.r2_score(Y_test, Y_pred)\n",
    "\n",
    "print(\"R squared Error - Test: \", test_error_score) "
   ]
  },
  {
   "cell_type": "markdown",
   "id": "2dcdc5b5",
   "metadata": {},
   "source": [
    "# Create scatterplot with regression line "
   ]
  },
  {
   "cell_type": "code",
   "execution_count": null,
   "id": "af10ee5f",
   "metadata": {},
   "outputs": [],
   "source": [
    "sns.regplot(Y_test, Y_pred, scatter_kws={\"color\": \"green\"}, line_kws={\"color\": \"blue\"}) "
   ]
  },
  {
   "cell_type": "code",
   "execution_count": null,
   "id": "c38233c2",
   "metadata": {},
   "outputs": [],
   "source": []
  }
 ],
 "metadata": {
  "kernelspec": {
   "display_name": "Python 3 (ipykernel)",
   "language": "python",
   "name": "python3"
  },
  "language_info": {
   "codemirror_mode": {
    "name": "ipython",
    "version": 3
   },
   "file_extension": ".py",
   "mimetype": "text/x-python",
   "name": "python",
   "nbconvert_exporter": "python",
   "pygments_lexer": "ipython3",
   "version": "3.10.9"
  }
 },
 "nbformat": 4,
 "nbformat_minor": 5
}
