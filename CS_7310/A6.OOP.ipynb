{
 "cells": [
  {
   "cell_type": "code",
   "execution_count": 12,
   "id": "2b50685b",
   "metadata": {},
   "outputs": [],
   "source": [
    "# Assignment OOP\n",
    "# Write the code specified and pass the asserts\n",
    "\n",
    "# Name: Charles Bryan\n",
    "# SMU ID: 49350684"
   ]
  },
  {
   "cell_type": "code",
   "execution_count": 13,
   "id": "dfa3e118",
   "metadata": {},
   "outputs": [],
   "source": [
    "from abc import ABC, abstractmethod\n",
    "\n",
    "class Shape(ABC):\n",
    "\n",
    "    def __init__(self,x,y):\n",
    "        self._x = x\n",
    "        self._y = y\n",
    "        self.color = None\n",
    "\n",
    "    @abstractmethod\n",
    "    def get_area(self):\n",
    "        pass\n",
    "\n",
    "    def set_color(self, color):\n",
    "        self.color = color\n",
    "\n",
    "    def set_x(self, x):\n",
    "        self._x = x\n",
    "\n",
    "    def set_y(self,y):\n",
    "        self._y = y\n",
    "\n",
    "    @property\n",
    "    def x(self):\n",
    "        return self._x\n",
    "\n",
    "    @property\n",
    "    def y (self):\n",
    "        return self._y"
   ]
  },
  {
   "cell_type": "markdown",
   "id": "7d2c1538",
   "metadata": {},
   "source": [
    "## 1 Write a Triangle class\n",
    "- Start with the abstract class Shape given above.\n",
    "- Write a class Triangle that is a subclass of Shape that accepts 4 constructor parameters, x, y, height and base.\n",
    "- Write code for get_area in the Triangle class, where the area is ½ * base * height\n",
    "- Pass the asserts.\n"
   ]
  },
  {
   "cell_type": "code",
   "execution_count": 14,
   "id": "12797589",
   "metadata": {},
   "outputs": [],
   "source": [
    "# write your Triangle class here...\n",
    "class Triangle(Shape):\n",
    "    def __init__(self,x,y,height,base):\n",
    "        super().__init__(x,y)\n",
    "        self.base = base\n",
    "        self.height = height\n",
    "\n",
    "    def get_area(self):\n",
    "        return 0.5 * self.base * self.height"
   ]
  },
  {
   "cell_type": "code",
   "execution_count": 15,
   "id": "28ef5cd9",
   "metadata": {},
   "outputs": [],
   "source": [
    "# create (instantiate) your Triangle object. Name it 'myt'\n",
    "myt = Triangle(2,0,10,10)\n"
   ]
  },
  {
   "cell_type": "code",
   "execution_count": 16,
   "id": "1caf9e1a",
   "metadata": {},
   "outputs": [
    {
     "name": "stdout",
     "output_type": "stream",
     "text": [
      "Passed OOP1\n"
     ]
    }
   ],
   "source": [
    "# asserts for your Triangle instance\n",
    "\n",
    "assert myt.get_area() == 50.0\n",
    "assert myt.x == 2\n",
    "print (\"Passed OOP1\")"
   ]
  },
  {
   "cell_type": "markdown",
   "id": "42c92789",
   "metadata": {},
   "source": [
    "## 2 Write a subclass of Card called Card21\n",
    "- In this assignment you will create a subclass of cord called Card21 which will have all the features of your super class Card PLUS a property called value, which should return the numeric value of the card for the game of blackjack.\n",
    "- Use the name of the card to determine the value.\n",
    "- All numeric cards should have their face value (2..10)\n",
    "- Jacks, Queens, Kings should have value of 10\n",
    "- Ace should have a value of 11\n"
   ]
  },
  {
   "cell_type": "code",
   "execution_count": 17,
   "id": "df8e3cb5",
   "metadata": {},
   "outputs": [],
   "source": [
    "# The Card Class\n",
    "class Card:\n",
    "    FACES = ['Ace', '2', '3', '4', '5', '6',\n",
    "             '7', '8', '9', '10', 'Jack', 'Queen', 'King']\n",
    "    SUITS = ['Hearts', 'Diamonds', 'Clubs', 'Spades']\n",
    "\n",
    "    def __init__(self, face, suit):\n",
    "        \"\"\"Initialize a Card with a face and suit.\"\"\"\n",
    "        self._face = face\n",
    "        self._suit = suit\n",
    "\n",
    "    @property\n",
    "    def face(self):\n",
    "        \"\"\"Return the Card's self._face value.\"\"\"\n",
    "        return self._face\n",
    "\n",
    "    @property\n",
    "    def suit(self):\n",
    "        \"\"\"Return the Card's self._suit value.\"\"\"\n",
    "        return self._suit\n"
   ]
  },
  {
   "cell_type": "code",
   "execution_count": 18,
   "id": "34bd7bc9",
   "metadata": {},
   "outputs": [],
   "source": [
    "# Define Card21 as a subclass of Card with a property called 'value'\n",
    "class Card:\n",
    "    FACES = ['Ace', '2', '3', '4', '5', '6',\n",
    "             '7', '8', '9', '10', 'Jack', 'Queen', 'King']\n",
    "    SUITS = ['Hearts', 'Diamonds', 'Clubs', 'Spades']\n",
    "\n",
    "    def __init__(self, face, suit):\n",
    "        \"\"\"Initialize a Card with a face and suit.\"\"\"\n",
    "        self._face = face\n",
    "        self._suit = suit\n",
    "\n",
    "    @property\n",
    "    def face(self):\n",
    "        \"\"\"Return the Card's self._face value.\"\"\"\n",
    "        return self._face\n",
    "\n",
    "    @property\n",
    "    def suit(self):\n",
    "        \"\"\"Return the Card's self._suit value.\"\"\"\n",
    "        return self._suit\n",
    "    \n",
    "class Card21(Card):\n",
    "    def __init__(self, face, suit):\n",
    "        super().__init__(face, suit)\n",
    "        self._value = self.calculate_value()\n",
    "\n",
    "    @property\n",
    "    def value(self):\n",
    "        return self._value\n",
    "\n",
    "    def set_value(self, value):\n",
    "        self._value = value\n",
    "\n",
    "    def calculate_value(self):\n",
    "        HIGH_FACES = ['Jack', 'Queen', 'King']\n",
    "        if super().face in HIGH_FACES:\n",
    "            self.set_value(10)\n",
    "        elif super().face == 'Ace':\n",
    "            self.set_value(11)\n",
    "        else:\n",
    "            self.set_value(int(super().face))\n",
    "        return self.value"
   ]
  },
  {
   "cell_type": "code",
   "execution_count": 19,
   "id": "4a56d999",
   "metadata": {},
   "outputs": [
    {
     "name": "stdout",
     "output_type": "stream",
     "text": [
      "Passed OOP2\n"
     ]
    }
   ],
   "source": [
    "# Pass the following asserts\n",
    "my_card = Card21('Ace','Hearts')\n",
    "assert my_card.value == 11\n",
    "\n",
    "my_card = Card21('Queen','Hearts')\n",
    "assert my_card.value == 10\n",
    "\n",
    "my_card = Card21('2','Hearts')\n",
    "assert my_card.value == 2\n",
    "print (\"Passed OOP2\")"
   ]
  },
  {
   "cell_type": "markdown",
   "id": "f3113027",
   "metadata": {},
   "source": [
    "## 3. Dealer for BlackJack\n",
    "- Create a class called Dealer that follows the rules of Blackjack.\n",
    "- The constructor should accept one parameter - call it hand ( a list of Card21) \n",
    "\n",
    "\n",
    "- Implement a method called hit_stay() which, based on hand, returns either ‘hit’ or ‘stay’ depending on the dealer rules. \n",
    "\n",
    "### Dealer Rules\n",
    "- The dealer should return “hit” if the total value of all the cards in the hand is 16 or less \n",
    "- The dealer should return “stay” if the total value of all the cards in the list is 17 or greater\n",
    "\n",
    "\n",
    "\n",
    "### Handling Aces:\n",
    "- The value of the Ace depends on the dealer’s other cards. \n",
    "- Assume the ace is 11 at first.  \n",
    "- If the sum of cards with an Ace adds up to 16 or less, return ‘hit. \n",
    "- If the  sum is greater than 17 with one ace, return stay. \n",
    "- If the cards have 2 or more aces, count the first ace as 11 and the others as 1. \n",
    "- If that sum < 17 return ‘hit’\n",
    "#### Now things get a bit tricky\n",
    "- If after counting the first ace as 11 and the rest as 1, if the sum > 21, count the first ace as 1\n",
    "- If the new sum < 17 return ‘hit’ else return 'stay'\n",
    "\n"
   ]
  },
  {
   "cell_type": "code",
   "execution_count": 20,
   "id": "4a7f95c6",
   "metadata": {},
   "outputs": [
    {
     "data": {
      "text/plain": [
       "'Dealer class - handling card input'"
      ]
     },
     "execution_count": 20,
     "metadata": {},
     "output_type": "execute_result"
    }
   ],
   "source": [
    "class Card:\n",
    "    FACES = ['Ace', '2', '3', '4', '5', '6',\n",
    "             '7', '8', '9', '10', 'Jack', 'Queen', 'King']\n",
    "    SUITS = ['Hearts', 'Diamonds', 'Clubs', 'Spades']\n",
    "\n",
    "    def __init__(self, face, suit):\n",
    "        \"\"\"Initialize a Card with a face and suit.\"\"\"\n",
    "        self._face = face\n",
    "        self._suit = suit\n",
    "\n",
    "    @property\n",
    "    def face(self):\n",
    "        \"\"\"Return the Card's self._face value.\"\"\"\n",
    "        return self._face\n",
    "\n",
    "    @property\n",
    "    def suit(self):\n",
    "        \"\"\"Return the Card's self._suit value.\"\"\"\n",
    "        return self._suit\n",
    "    \n",
    "class Card21(Card):\n",
    "    def __init__(self, face, suit):\n",
    "        super().__init__(face, suit)\n",
    "        self._value = self.calculate_value()\n",
    "\n",
    "    @property\n",
    "    def value(self):\n",
    "        return self._value\n",
    "\n",
    "    def set_value(self, value):\n",
    "        self._value = value\n",
    "\n",
    "    def calculate_value(self):\n",
    "        HIGH_FACES = ['Jack', 'Queen', 'King']\n",
    "        if super().face in HIGH_FACES:\n",
    "            self.set_value(10)\n",
    "        elif super().face == 'Ace':\n",
    "            self.set_value(11)\n",
    "        else:\n",
    "            self.set_value(int(super().face))\n",
    "        return self.value\n",
    "    \n",
    "# Define the Class Dealer\n",
    "class Dealer():\n",
    "    def __init__(self, hand):\n",
    "        self._hand = hand\n",
    "        self._hand_value = 0\n",
    "        self._ace_count = 0\n",
    "        self.update_hand_value_and_ace_count()\n",
    "\n",
    "    @property\n",
    "    def hand(self):\n",
    "        return self._hand\n",
    "\n",
    "    @property\n",
    "    def hand_value(self):\n",
    "        return self._hand_value\n",
    "\n",
    "    @property\n",
    "    def ace_count(self):\n",
    "        return self._ace_count\n",
    "\n",
    "    def increment_hand_value(self, value):\n",
    "        self._hand_value += value\n",
    "\n",
    "    def decrement_hand_value_for_multiple_aces(self, value):\n",
    "        self._hand_value -= value\n",
    "\n",
    "    def hit_or_stay(self):\n",
    "        if self.hand_value <= 16:\n",
    "            return 'hit'\n",
    "        else:\n",
    "            return 'stay'\n",
    "\n",
    "    def update_hand_value_and_ace_count(self):\n",
    "        for card in self.hand:\n",
    "            if card.face == 'Ace':\n",
    "                self.increment_ace_count()\n",
    "            self.increment_hand_value(card.value)\n",
    "        while self.ace_count >= 1 and self.hand_value > 21:\n",
    "            self.decrement_hand_value_for_multiple_aces(10)\n",
    "        return self.hand_value\n",
    "\n",
    "    def increment_ace_count(self):\n",
    "        self._ace_count += 1\n",
    "\n",
    "'Dealer class - handling card input'\n",
    "\n"
   ]
  },
  {
   "cell_type": "code",
   "execution_count": 21,
   "id": "571a1694",
   "metadata": {},
   "outputs": [
    {
     "name": "stdout",
     "output_type": "stream",
     "text": [
      "Passed OOP3.1\n",
      "Passed OOP3.2\n",
      "Passed OOP3.3\n"
     ]
    }
   ],
   "source": [
    "# Assert \n",
    "hand = []\n",
    "hand.append( Card21(\"Queen\", 'Hearts') )\n",
    "hand.append( Card21(\"Ace\", 'Hearts') )\n",
    "\n",
    "dealer = Dealer(hand)  # expect 21\n",
    "assert dealer.hit_or_stay() == 'stay'\n",
    "print (\"Passed OOP3.1\")\n",
    "\n",
    "\n",
    "# Assert \n",
    "hand = []\n",
    "hand.append( Card21(\"Queen\", 'Hearts') )\n",
    "hand.append( Card21(\"2\", 'Hearts') )\n",
    "\n",
    "dealer = Dealer(hand)  # expect 12\n",
    "assert dealer.hit_or_stay() == 'hit'\n",
    "print (\"Passed OOP3.2\")\n",
    "\n",
    "\n",
    "# Assert \n",
    "hand = []\n",
    "hand.append( Card21(\"Queen\", 'Hearts') )\n",
    "hand.append( Card21(\"9\", 'Hearts') )\n",
    "\n",
    "dealer = Dealer(hand)  # expect 19\n",
    "assert dealer.hit_or_stay() == 'stay'\n",
    "print (\"Passed OOP3.3\")"
   ]
  },
  {
   "cell_type": "code",
   "execution_count": 22,
   "id": "05841b0e",
   "metadata": {},
   "outputs": [
    {
     "name": "stdout",
     "output_type": "stream",
     "text": [
      "Passed OOP3.4\n",
      "Passed OOP3.5\n",
      "Passed OOP3.6\n"
     ]
    }
   ],
   "source": [
    "#assert with aces - these can be tricky!\n",
    "hand = []\n",
    "hand.append( Card21(\"Queen\", 'Hearts') )\n",
    "hand.append( Card21(\"2\", 'Hearts') )\n",
    "hand.append( Card21(\"Ace\", 'Hearts') )\n",
    "\n",
    "dealer = Dealer(hand)  # hand value = 13 counting ace as 1 since 11 goes over 21\n",
    "assert dealer.hit_or_stay() == 'hit'\n",
    "print (\"Passed OOP3.4\")\n",
    "\n",
    "\n",
    "#Assert with aces \n",
    "hand = []\n",
    "hand.append( Card21(\"Ace\", 'Spades') )\n",
    "hand.append( Card21(\"2\", 'Hearts') )\n",
    "hand.append( Card21(\"6\", 'Hearts') )\n",
    "hand.append( Card21(\"Ace\", 'Hearts') )\n",
    "hand.append( Card21(\"Ace\", 'Hearts') )\n",
    "\n",
    "dealer = Dealer(hand)  # hand value = 21  one ace=11 other aces=1\n",
    "assert dealer.hit_or_stay() == 'stay'\n",
    "print (\"Passed OOP3.5\")\n",
    "\n",
    "#Assert with aces - \n",
    "hand = []\n",
    "hand.append( Card21(\"Ace\", 'Spades') )\n",
    "hand.append( Card21(\"2\", 'Hearts') )\n",
    "hand.append( Card21(\"6\", 'Hearts') )\n",
    "hand.append( Card21(\"Ace\", 'Hearts') )\n",
    "hand.append( Card21(\"Ace\", 'Hearts') )\n",
    "hand.append( Card21(\"Ace\", 'Hearts') )\n",
    "\n",
    "dealer = Dealer(hand)  # hand value = 12 counting all aces as 1\n",
    "assert dealer.hit_or_stay() == 'hit'\n",
    "\n",
    "print (\"Passed OOP3.6\")"
   ]
  },
  {
   "cell_type": "code",
   "execution_count": null,
   "id": "5a6c9c91",
   "metadata": {},
   "outputs": [],
   "source": []
  },
  {
   "cell_type": "code",
   "execution_count": null,
   "id": "630a0460",
   "metadata": {},
   "outputs": [],
   "source": []
  },
  {
   "cell_type": "code",
   "execution_count": null,
   "id": "72af27ff",
   "metadata": {},
   "outputs": [],
   "source": []
  }
 ],
 "metadata": {
  "kernelspec": {
   "display_name": "Python 3 (ipykernel)",
   "language": "python",
   "name": "python3"
  },
  "language_info": {
   "codemirror_mode": {
    "name": "ipython",
    "version": 3
   },
   "file_extension": ".py",
   "mimetype": "text/x-python",
   "name": "python",
   "nbconvert_exporter": "python",
   "pygments_lexer": "ipython3",
   "version": "3.10.9"
  }
 },
 "nbformat": 4,
 "nbformat_minor": 5
}
