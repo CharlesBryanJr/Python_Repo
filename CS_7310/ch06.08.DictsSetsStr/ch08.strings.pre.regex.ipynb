{
 "cells": [
  {
   "cell_type": "markdown",
   "id": "6e0fed9b",
   "metadata": {},
   "source": [
    "# 8. Strings: A Deeper Look "
   ]
  },
  {
   "cell_type": "markdown",
   "id": "a767f4d5",
   "metadata": {},
   "source": [
    "# Objectives\n",
    "In this chapter, you’ll:\n",
    "* Understand text processing.\n",
    "* Use string methods.\n",
    "* Format string content.\n",
    "* Concatenate and repeat strings.\n",
    "* Strip whitespace from the ends of strings.\n",
    "* Change characters from lowercase to uppercase and vice versa."
   ]
  },
  {
   "cell_type": "markdown",
   "id": "57dedd1b",
   "metadata": {},
   "source": [
    "# Objectives (cont.)\n",
    "* Compare strings with the comparison operators.\n",
    "* Search strings for substrings and replace substrings.\n",
    "* Split strings into tokens.\n",
    "* Concatenate strings into a single string with a specified separator between items.\n",
    "* Create and use regular expressions to match patterns in strings, replace substrings and validate data."
   ]
  },
  {
   "cell_type": "markdown",
   "id": "809d23f1",
   "metadata": {},
   "source": [
    "# Objectives (cont.)\n",
    "* Use regular expression metacharacters, quantifiers, character classes and grouping.\n",
    "* Understand how critical string manipulations are to natural language processing.\n",
    "* Understand the data science terms data munging, data wrangling and data cleaning, and use regular expressions to munge data into preferred formats. "
   ]
  },
  {
   "cell_type": "markdown",
   "id": "89906c3f",
   "metadata": {},
   "source": [
    "## 8.2.1 Presentation Types\n"
   ]
  },
  {
   "cell_type": "code",
   "execution_count": 1,
   "id": "a80bb661",
   "metadata": {},
   "outputs": [
    {
     "data": {
      "text/plain": [
       "'17.49'"
      ]
     },
     "execution_count": 1,
     "metadata": {},
     "output_type": "execute_result"
    }
   ],
   "source": [
    "f'{17.489:.2f}'"
   ]
  },
  {
   "cell_type": "markdown",
   "id": "8d50700b",
   "metadata": {},
   "source": [
    "* Can also use the **`e` presentation type** for exponential (scientific) notation."
   ]
  },
  {
   "cell_type": "markdown",
   "id": "32711a67",
   "metadata": {},
   "source": [
    "# 8.4 Stripping Whitespace from Strings\n",
    "* Methods for removing whitespace from the ends of a string each return a new string"
   ]
  },
  {
   "cell_type": "markdown",
   "id": "247b8e5e",
   "metadata": {},
   "source": [
    "### Removing Leading and Trailing Whitespace\n",
    "* **`strip`** removes leading and trailing whitespace"
   ]
  },
  {
   "cell_type": "code",
   "execution_count": 2,
   "id": "396a0a56",
   "metadata": {},
   "outputs": [],
   "source": [
    "sentence = '\\t  \\n  This is a test string. \\t\\t \\n'"
   ]
  },
  {
   "cell_type": "code",
   "execution_count": 3,
   "id": "dfc82098",
   "metadata": {},
   "outputs": [
    {
     "data": {
      "text/plain": [
       "'This is a test string.'"
      ]
     },
     "execution_count": 3,
     "metadata": {},
     "output_type": "execute_result"
    }
   ],
   "source": [
    "sentence.strip()"
   ]
  },
  {
   "cell_type": "markdown",
   "id": "dc159c74",
   "metadata": {},
   "source": [
    "### Removing Leading Whitespace\n",
    "* **`lstrip`** removes only leading whitespace"
   ]
  },
  {
   "cell_type": "code",
   "execution_count": 4,
   "id": "f68c396a",
   "metadata": {},
   "outputs": [
    {
     "data": {
      "text/plain": [
       "'This is a test string. \\t\\t \\n'"
      ]
     },
     "execution_count": 4,
     "metadata": {},
     "output_type": "execute_result"
    }
   ],
   "source": [
    "sentence.lstrip()"
   ]
  },
  {
   "cell_type": "markdown",
   "id": "bd427b7e",
   "metadata": {},
   "source": [
    "### Removing Trailing Whitespace\n",
    "* **`rstrip`** removes only trailing whitespace "
   ]
  },
  {
   "cell_type": "code",
   "execution_count": 5,
   "id": "02bad287",
   "metadata": {},
   "outputs": [
    {
     "data": {
      "text/plain": [
       "'\\t  \\n  This is a test string.'"
      ]
     },
     "execution_count": 5,
     "metadata": {},
     "output_type": "execute_result"
    }
   ],
   "source": [
    "sentence.rstrip()"
   ]
  },
  {
   "cell_type": "markdown",
   "id": "cdf4820e",
   "metadata": {},
   "source": [
    "# 8.7 Searching for Substrings\n",
    "* Can search a string for a **substring to \n",
    "    * count number of occurrences\n",
    "    * determine whether a string contains a substring\n",
    "    * determine the index at which a substring resides in a string\n",
    "* Each method shown in this section compares characters lexicographically using their underlying numeric values"
   ]
  },
  {
   "cell_type": "markdown",
   "id": "eba0b531",
   "metadata": {},
   "source": [
    "### Counting Occurrences\n",
    "* **`count`** returns the number of times its argument occurs in a string"
   ]
  },
  {
   "cell_type": "code",
   "execution_count": 6,
   "id": "0a04ec60",
   "metadata": {},
   "outputs": [],
   "source": [
    "sentence = 'to be or not to be that is the question'"
   ]
  },
  {
   "cell_type": "code",
   "execution_count": 7,
   "id": "c07696a8",
   "metadata": {},
   "outputs": [
    {
     "data": {
      "text/plain": [
       "2"
      ]
     },
     "execution_count": 7,
     "metadata": {},
     "output_type": "execute_result"
    }
   ],
   "source": [
    "sentence.count('to')"
   ]
  },
  {
   "cell_type": "markdown",
   "id": "894abc4d",
   "metadata": {},
   "source": [
    "* If you specify as the second argument a **start index**, `count` searches only the slice **_string_`[`*start_index*`:]`**"
   ]
  },
  {
   "cell_type": "code",
   "execution_count": 8,
   "id": "8e3d482f",
   "metadata": {},
   "outputs": [
    {
     "data": {
      "text/plain": [
       "1"
      ]
     },
     "execution_count": 8,
     "metadata": {},
     "output_type": "execute_result"
    }
   ],
   "source": [
    "sentence.count('to', 12)"
   ]
  },
  {
   "cell_type": "markdown",
   "id": "ec3a851d",
   "metadata": {},
   "source": [
    "* If you specify as the second and third arguments the **start index** and **end index**,`count` searches only the slice **_string_`[`*start_index*`:`*end_index*`]`**"
   ]
  },
  {
   "cell_type": "code",
   "execution_count": 9,
   "id": "df08d528",
   "metadata": {},
   "outputs": [
    {
     "data": {
      "text/plain": [
       "1"
      ]
     },
     "execution_count": 9,
     "metadata": {},
     "output_type": "execute_result"
    }
   ],
   "source": [
    "sentence.count('that', 12, 25)"
   ]
  },
  {
   "cell_type": "markdown",
   "id": "df263555",
   "metadata": {},
   "source": [
    "* Like `count`, the other string methods presented in this section each have **start index** and **end index** arguments "
   ]
  },
  {
   "cell_type": "markdown",
   "id": "d35e32a9",
   "metadata": {},
   "source": [
    "### Locating a Substring in a String\n",
    "* **`index`** searches for a substring within a string and returns the first index at which the substring is found; otherwise, a `ValueError` occurs:"
   ]
  },
  {
   "cell_type": "code",
   "execution_count": 10,
   "id": "5c9bc86f",
   "metadata": {},
   "outputs": [
    {
     "data": {
      "text/plain": [
       "3"
      ]
     },
     "execution_count": 10,
     "metadata": {},
     "output_type": "execute_result"
    }
   ],
   "source": [
    "sentence.index('be')"
   ]
  },
  {
   "cell_type": "markdown",
   "id": "c955b98a",
   "metadata": {},
   "source": [
    "* **`rindex`** performs the same operation as `index`, but searches from the end of the string"
   ]
  },
  {
   "cell_type": "code",
   "execution_count": 11,
   "id": "f8efbad6",
   "metadata": {},
   "outputs": [
    {
     "data": {
      "text/plain": [
       "16"
      ]
     },
     "execution_count": 11,
     "metadata": {},
     "output_type": "execute_result"
    }
   ],
   "source": [
    "sentence.rindex('be')"
   ]
  },
  {
   "cell_type": "markdown",
   "id": "ae0c636e",
   "metadata": {},
   "source": [
    "* **`find`** and **`rfind`** perform the same tasks as `index` and `rindex` but return `-1` if the substring is not found"
   ]
  },
  {
   "cell_type": "markdown",
   "id": "62fa271b",
   "metadata": {},
   "source": [
    "### Determining Whether a String Contains a Substring \n",
    "* To check whether a string contains a substring, use operator `in` or `not in`"
   ]
  },
  {
   "cell_type": "code",
   "execution_count": 12,
   "id": "ec8e0abb",
   "metadata": {},
   "outputs": [
    {
     "data": {
      "text/plain": [
       "True"
      ]
     },
     "execution_count": 12,
     "metadata": {},
     "output_type": "execute_result"
    }
   ],
   "source": [
    "'that' in sentence"
   ]
  },
  {
   "cell_type": "code",
   "execution_count": 13,
   "id": "2783b40b",
   "metadata": {},
   "outputs": [
    {
     "data": {
      "text/plain": [
       "False"
      ]
     },
     "execution_count": 13,
     "metadata": {},
     "output_type": "execute_result"
    }
   ],
   "source": [
    "'THAT' in sentence"
   ]
  },
  {
   "cell_type": "code",
   "execution_count": 14,
   "id": "46602497",
   "metadata": {},
   "outputs": [
    {
     "data": {
      "text/plain": [
       "True"
      ]
     },
     "execution_count": 14,
     "metadata": {},
     "output_type": "execute_result"
    }
   ],
   "source": [
    "'THAT' not in sentence"
   ]
  },
  {
   "cell_type": "markdown",
   "id": "1ef6bae8",
   "metadata": {},
   "source": [
    "### Locating a Substring at the Beginning or End of a String\n",
    "* **`startswith`** and **`endswith`** return `True` if the string starts with or ends with a specified substring"
   ]
  },
  {
   "cell_type": "code",
   "execution_count": 15,
   "id": "d988d4ca",
   "metadata": {},
   "outputs": [
    {
     "data": {
      "text/plain": [
       "True"
      ]
     },
     "execution_count": 15,
     "metadata": {},
     "output_type": "execute_result"
    }
   ],
   "source": [
    "sentence.startswith('to')"
   ]
  },
  {
   "cell_type": "code",
   "execution_count": 16,
   "id": "d9d99ac1",
   "metadata": {},
   "outputs": [
    {
     "data": {
      "text/plain": [
       "False"
      ]
     },
     "execution_count": 16,
     "metadata": {},
     "output_type": "execute_result"
    }
   ],
   "source": [
    "sentence.startswith('be')"
   ]
  },
  {
   "cell_type": "code",
   "execution_count": 17,
   "id": "70965cda",
   "metadata": {},
   "outputs": [
    {
     "data": {
      "text/plain": [
       "True"
      ]
     },
     "execution_count": 17,
     "metadata": {},
     "output_type": "execute_result"
    }
   ],
   "source": [
    "sentence.endswith('question')"
   ]
  },
  {
   "cell_type": "code",
   "execution_count": 18,
   "id": "07f5a0d8",
   "metadata": {},
   "outputs": [
    {
     "data": {
      "text/plain": [
       "False"
      ]
     },
     "execution_count": 18,
     "metadata": {},
     "output_type": "execute_result"
    }
   ],
   "source": [
    "sentence.endswith('quest')"
   ]
  },
  {
   "cell_type": "markdown",
   "id": "bd8a8c88",
   "metadata": {},
   "source": [
    "# 8.8 Replacing Substrings\n",
    "* A common text manipulation is to locate a substring and replace its value\n",
    "* **`replace`** searches a string for the substring in its first argument and replaces _each_ occurrence with the substring in its second argument\n",
    "* Can receive an optional third argument specifying the maximum number of replacements "
   ]
  },
  {
   "cell_type": "code",
   "execution_count": 19,
   "id": "bf495b23",
   "metadata": {},
   "outputs": [],
   "source": [
    "values = '1\\t2\\t3\\t4\\t5'"
   ]
  },
  {
   "cell_type": "code",
   "execution_count": 20,
   "id": "b7138740",
   "metadata": {},
   "outputs": [
    {
     "data": {
      "text/plain": [
       "'1,2,3,4,5'"
      ]
     },
     "execution_count": 20,
     "metadata": {},
     "output_type": "execute_result"
    }
   ],
   "source": [
    "values.replace('\\t', ',')"
   ]
  },
  {
   "cell_type": "markdown",
   "id": "dec50101",
   "metadata": {},
   "source": [
    "# 8.9 Splitting and Joining Strings\n",
    "* Tokens typically are separated by whitespace characters such as blank, tab and newline, though other characters may be used—the separators are known as **delimiters**"
   ]
  },
  {
   "cell_type": "markdown",
   "id": "fbf0f0cf",
   "metadata": {},
   "source": [
    "### Splitting Strings\n",
    "* To tokenize a string at a custom delimiter, specify the delimiter string that `split` uses to tokenize the string"
   ]
  },
  {
   "cell_type": "code",
   "execution_count": 21,
   "id": "caac258a",
   "metadata": {},
   "outputs": [],
   "source": [
    "letters = 'A, B, C, D'"
   ]
  },
  {
   "cell_type": "code",
   "execution_count": 22,
   "id": "4421a1fb",
   "metadata": {},
   "outputs": [
    {
     "data": {
      "text/plain": [
       "['A', 'B', 'C', 'D']"
      ]
     },
     "execution_count": 22,
     "metadata": {},
     "output_type": "execute_result"
    }
   ],
   "source": [
    "letters.split(', ')"
   ]
  },
  {
   "cell_type": "markdown",
   "id": "5e3b49f9",
   "metadata": {},
   "source": [
    "### Joining Strings\n",
    "* **`join`** concatenates the strings in its argument, which must be an iterable containing only string values\n",
    "* The separator between the concatenated items is the string on which you call `join`"
   ]
  },
  {
   "cell_type": "code",
   "execution_count": 23,
   "id": "8f90df59",
   "metadata": {},
   "outputs": [],
   "source": [
    "letters_list = ['A', 'B', 'C', 'D']"
   ]
  },
  {
   "cell_type": "code",
   "execution_count": 24,
   "id": "fc360aa2",
   "metadata": {},
   "outputs": [
    {
     "data": {
      "text/plain": [
       "'A,B,C,D'"
      ]
     },
     "execution_count": 24,
     "metadata": {},
     "output_type": "execute_result"
    }
   ],
   "source": [
    "','.join(letters_list)"
   ]
  },
  {
   "cell_type": "markdown",
   "id": "1c8f7987",
   "metadata": {},
   "source": [
    "* Join the results of a list comprehension that creates a list of strings"
   ]
  },
  {
   "cell_type": "code",
   "execution_count": 25,
   "id": "fd61466e",
   "metadata": {},
   "outputs": [
    {
     "data": {
      "text/plain": [
       "'0,1,2,3,4,5,6,7,8,9'"
      ]
     },
     "execution_count": 25,
     "metadata": {},
     "output_type": "execute_result"
    }
   ],
   "source": [
    "','.join([str(i) for i in range(10)])"
   ]
  },
  {
   "cell_type": "markdown",
   "id": "1df85d7b",
   "metadata": {},
   "source": [
    "# 8.10 Characters and Character-Testing Methods\n",
    "* In Python, a character is simply a one-character string\n",
    "* Python provides string methods for testing whether a string matches certain characteristics\n",
    "* **`isdigit`** returns `True` if the string on which you call the method contains only the digit characters (`0`–`9`)\n",
    "    * Useful for validating data"
   ]
  },
  {
   "cell_type": "code",
   "execution_count": 26,
   "id": "a1165d2a",
   "metadata": {},
   "outputs": [
    {
     "data": {
      "text/plain": [
       "False"
      ]
     },
     "execution_count": 26,
     "metadata": {},
     "output_type": "execute_result"
    }
   ],
   "source": [
    "'-27'.isdigit()\n"
   ]
  },
  {
   "cell_type": "code",
   "execution_count": 27,
   "id": "05c4bdc0",
   "metadata": {},
   "outputs": [
    {
     "data": {
      "text/plain": [
       "True"
      ]
     },
     "execution_count": 27,
     "metadata": {},
     "output_type": "execute_result"
    }
   ],
   "source": [
    "'27'.isdigit()"
   ]
  },
  {
   "cell_type": "markdown",
   "id": "0b6380a8",
   "metadata": {},
   "source": [
    "# 8.10 Characters and Character-Testing Methods (cont.)\n",
    "* `isalnum` returns `True` if the string on which you call the method is alphanumeric (only digits and letters)"
   ]
  },
  {
   "cell_type": "code",
   "execution_count": 28,
   "id": "54d23118",
   "metadata": {},
   "outputs": [
    {
     "data": {
      "text/plain": [
       "True"
      ]
     },
     "execution_count": 28,
     "metadata": {},
     "output_type": "execute_result"
    }
   ],
   "source": [
    "'A9876'.isalnum()"
   ]
  },
  {
   "cell_type": "code",
   "execution_count": 29,
   "id": "537027ab",
   "metadata": {},
   "outputs": [
    {
     "data": {
      "text/plain": [
       "False"
      ]
     },
     "execution_count": 29,
     "metadata": {},
     "output_type": "execute_result"
    }
   ],
   "source": [
    "'123 Main Street'.isalnum()"
   ]
  },
  {
   "cell_type": "markdown",
   "id": "6f944590",
   "metadata": {},
   "source": [
    "# 8.10 Characters and Character-Testing Methods (cont.)\n",
    "* Table of many character-testing methods"
   ]
  },
  {
   "cell_type": "markdown",
   "id": "cbd6df5b",
   "metadata": {},
   "source": [
    "| String Method | Description\n",
    "| -------- | --------\n",
    "| `isalnum()` | Returns `True` if the string contains only _alphanumeric_ characters (i.e., digits and letters).\n",
    "| `isalpha()`  | Returns `True` if the string contains only _alphabetic_ characters (i.e., letters).\n",
    "| `isdecimal()`  | Returns `True` if the string contains only _decimal integer_ characters (that is, base 10 integers) and does not contain a + or - sign.\n",
    "| `isdigit()`  | Returns `True` if the string contains only digits (e.g., '0', '1', '2').\n",
    "| `isidentifier()`  | Returns `True` if the string represents a valid _identifier_. \n",
    "| `islower()`  | Returns `True` if all alphabetic characters in the string are _lowercase_ characters (e.g., `'a'`, `'b'`, `'c'`).\n",
    "| `isnumeric()`  | Returns `True` if the characters in the string represent a _numeric value_ without a + or - sign and without a decimal point.\n",
    "| `isspace()`  | Returns `True` if the string contains only _whitespace_ characters.\n",
    "| `istitle()`  | Returns `True` if the first character of each word in the string is the only _uppercase_ character in the word. \n",
    "| `isupper()`  | Returns `True` if all alphabetic characters in the string are _uppercase_ characters (e.g., `'A'`, `'B'`, `'C'`)."
   ]
  },
  {
   "cell_type": "markdown",
   "id": "c3269c31",
   "metadata": {},
   "source": [
    "# 8.11 Raw Strings\n",
    "* Backslash characters in strings introduce _escape sequences_—like `\\n` for newline and `\\t` for tab\n",
    "* To include a backslash in a string, use two backslash characters `\\\\`\n",
    "* Makes some strings difficult to read\n",
    "* Consider a Microsoft Windows file location:"
   ]
  },
  {
   "cell_type": "code",
   "execution_count": 30,
   "id": "105ea33e",
   "metadata": {},
   "outputs": [],
   "source": [
    "file_path = 'C:\\\\MyFolder\\\\MySubFolder\\\\MyFile.txt'"
   ]
  },
  {
   "cell_type": "code",
   "execution_count": 31,
   "id": "33ae67e6",
   "metadata": {},
   "outputs": [
    {
     "data": {
      "text/plain": [
       "'C:\\\\MyFolder\\\\MySubFolder\\\\MyFile.txt'"
      ]
     },
     "execution_count": 31,
     "metadata": {},
     "output_type": "execute_result"
    }
   ],
   "source": [
    "file_path"
   ]
  },
  {
   "cell_type": "markdown",
   "id": "091cbf50",
   "metadata": {},
   "source": [
    "# 8.11 Raw Strings (cont.)\n",
    "* **raw strings**—preceded by the character `r`—are more convenient\n",
    "* They treat each backslash as a regular character, rather than the beginning of an escape sequence\n",
    "* We will see this when we create regular expression strings that make use of \\"
   ]
  },
  {
   "cell_type": "code",
   "execution_count": 32,
   "id": "5cc45761",
   "metadata": {},
   "outputs": [],
   "source": [
    "file_path = r'C:\\MyFolder\\MySubFolder\\MyFile.txt'"
   ]
  },
  {
   "cell_type": "code",
   "execution_count": 33,
   "id": "554042d4",
   "metadata": {},
   "outputs": [
    {
     "data": {
      "text/plain": [
       "'C:\\\\MyFolder\\\\MySubFolder\\\\MyFile.txt'"
      ]
     },
     "execution_count": 33,
     "metadata": {},
     "output_type": "execute_result"
    }
   ],
   "source": [
    "file_path"
   ]
  },
  {
   "cell_type": "code",
   "execution_count": null,
   "id": "66f15723",
   "metadata": {},
   "outputs": [],
   "source": []
  }
 ],
 "metadata": {
  "celltoolbar": "Slideshow",
  "kernelspec": {
   "display_name": "Python 3 (ipykernel)",
   "language": "python",
   "name": "python3"
  },
  "language_info": {
   "codemirror_mode": {
    "name": "ipython",
    "version": 3
   },
   "file_extension": ".py",
   "mimetype": "text/x-python",
   "name": "python",
   "nbconvert_exporter": "python",
   "pygments_lexer": "ipython3",
   "version": "3.10.9"
  }
 },
 "nbformat": 4,
 "nbformat_minor": 5
}
